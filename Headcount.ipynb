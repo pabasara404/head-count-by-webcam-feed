{
  "cells": [
    {
      "cell_type": "code",
      "execution_count": null,
      "metadata": {},
      "outputs": [],
      "source": [
        "import sys\n",
        "\n",
        "sys.path.append('c:\\\\users\\\\pabas\\\\appdata\\\\local\\\\programs\\\\python\\\\python311\\\\lib\\\\site-packages')\n"
      ]
    },
    {
      "cell_type": "code",
      "execution_count": 1,
      "metadata": {
        "colab": {
          "base_uri": "https://localhost:8080/"
        },
        "id": "e1K8N_YGp8nd",
        "outputId": "a5413704-ca89-4d13-c9d3-eb8889dbd9c7"
      },
      "outputs": [],
      "source": [
        "import numpy as np\n",
        "import cv2\n",
        "\n",
        "# Initialize the HOG descriptor/person detector\n",
        "hog = cv2.HOGDescriptor()\n",
        "hog.setSVMDetector(cv2.HOGDescriptor_getDefaultPeopleDetector())\n",
        "\n",
        "# Open webcam video stream\n",
        "cap = cv2.VideoCapture(0)\n",
        "\n",
        "# Check if the webcam is opened successfully\n",
        "if not cap.isOpened():\n",
        "    print(\"Error: Could not open webcam.\")\n",
        "    exit()\n",
        "\n",
        "# Create a window to display the video feed\n",
        "cv2.namedWindow(\"Video Feed\")\n",
        "\n",
        "# Initialize head count and a list to keep track of detected heads\n",
        "head_count = 0\n",
        "detected_heads = []\n",
        "\n",
        "while True:\n",
        "    # Capture frame-by-frame\n",
        "    ret, frame = cap.read()\n",
        "\n",
        "    # Check if the frame is captured successfully\n",
        "    if not ret:\n",
        "        print(\"Error: Could not read frame.\")\n",
        "        break\n",
        "\n",
        "    # Resizing for faster detection\n",
        "    frame = cv2.resize(frame, (640, 480))\n",
        "\n",
        "    # Detect people in the image\n",
        "    # Returns the bounding boxes for the detected objects\n",
        "    boxes, weights = hog.detectMultiScale(frame, winStride=(8, 8))\n",
        "\n",
        "    boxes = np.array([[x, y, x + w, y + h] for (x, y, w, h) in boxes])\n",
        "\n",
        "    for (xA, yA, xB, yB) in boxes:\n",
        "        # Check if the head has been detected before\n",
        "        new_head = True\n",
        "        for (x, y, _, _) in detected_heads:\n",
        "            if abs(xA - x) < 20 and abs(yA - y) < 20:\n",
        "                new_head = False\n",
        "                break\n",
        "\n",
        "        if new_head:\n",
        "            # Draw a green rectangle around the head\n",
        "            cv2.rectangle(frame, (xA, yA), (xB, yB), (0, 255, 0), 2)\n",
        "            # Increment head count\n",
        "            head_count += 1\n",
        "            # Add the detected head to the list\n",
        "            detected_heads.append((xA, yA, xB, yB))\n",
        "\n",
        "    # Display the head count in the top-left corner\n",
        "    cv2.putText(frame, f'Heads: {head_count}', (10, 30), cv2.FONT_HERSHEY_SIMPLEX, 1, (0, 255, 0), 2)\n",
        "\n",
        "    # Display the resulting frame\n",
        "    cv2.imshow(\"Video Feed\", frame)\n",
        "\n",
        "    # Write the output video (optional)\n",
        "    # out.write(frame.astype('uint8'))\n",
        "\n",
        "    # Press 'q' to exit the webcam feed\n",
        "    if cv2.waitKey(1) & 0xFF == ord('q'):\n",
        "        break\n",
        "\n",
        "# Release the capture and close the window\n",
        "cap.release()\n",
        "cv2.destroyAllWindows()\n"
      ]
    }
  ],
  "metadata": {
    "colab": {
      "provenance": []
    },
    "kernelspec": {
      "display_name": "Python 3",
      "name": "python3"
    },
    "language_info": {
      "codemirror_mode": {
        "name": "ipython",
        "version": 3
      },
      "file_extension": ".py",
      "mimetype": "text/x-python",
      "name": "python",
      "nbconvert_exporter": "python",
      "pygments_lexer": "ipython3",
      "version": "3.11.4"
    }
  },
  "nbformat": 4,
  "nbformat_minor": 0
}
